{
 "cells": [
  {
   "cell_type": "markdown",
   "metadata": {},
   "source": [
    "## In this Notebook, We will work on Dataset of 5 types of flowers(Daisy, Dandelion, Rose, Sunflower and Tulip). We will predict that the given flower belongs to which category from these 5 Category.\n"
   ]
  },
  {
   "cell_type": "markdown",
   "metadata": {},
   "source": [
    "### First import Libraries"
   ]
  },
  {
   "cell_type": "code",
   "execution_count": 1,
   "metadata": {},
   "outputs": [
    {
     "name": "stderr",
     "output_type": "stream",
     "text": [
      "Using TensorFlow backend.\n"
     ]
    }
   ],
   "source": [
    "import numpy as np\n",
    "import pandas as pd\n",
    "import matplotlib.pyplot as plt\n",
    "import seaborn as sns\n",
    "import os\n",
    "from os.path import isfile, join, abspath, exists, isdir, expanduser\n",
    "from os import listdir, makedirs, getcwd, remove\n",
    "from pathlib import Path\n",
    "import shutil\n",
    "# Importing the Keras libraries and packages\n",
    "from keras.models import Sequential\n",
    "from keras.layers import Conv2D\n",
    "from keras.layers import MaxPooling2D\n",
    "from keras.layers import Flatten\n",
    "from keras.layers import Dense\n",
    "from keras.preprocessing.image import ImageDataGenerator,load_img, img_to_array\n",
    "from keras.preprocessing import image\n",
    "\n",
    "\n"
   ]
  },
  {
   "cell_type": "markdown",
   "metadata": {},
   "source": [
    "#### Check the path of Directory"
   ]
  },
  {
   "cell_type": "code",
   "execution_count": 2,
   "metadata": {},
   "outputs": [
    {
     "data": {
      "text/plain": [
       "'C:\\\\Users\\\\hp\\\\Desktop\\\\ML\\\\My_Model\\\\flowers_recognition'"
      ]
     },
     "execution_count": 2,
     "metadata": {},
     "output_type": "execute_result"
    }
   ],
   "source": [
    "os.path.abspath(\"\")"
   ]
  },
  {
   "cell_type": "markdown",
   "metadata": {},
   "source": [
    "#### Assign the path"
   ]
  },
  {
   "cell_type": "code",
   "execution_count": 3,
   "metadata": {},
   "outputs": [],
   "source": [
    "flowers_path = r\"C:\\Users\\hp\\Desktop\\ML\\My_Model\\flowers_recognition\\flowers\""
   ]
  },
  {
   "cell_type": "markdown",
   "metadata": {},
   "source": [
    "#### Checks the Number of Category and types of Category"
   ]
  },
  {
   "cell_type": "code",
   "execution_count": 4,
   "metadata": {},
   "outputs": [
    {
     "name": "stdout",
     "output_type": "stream",
     "text": [
      "Types of flowers found:  5\n",
      "Categories of flowers:  ['daisy', 'dandelion', 'rose', 'sunflower', 'tulip']\n"
     ]
    }
   ],
   "source": [
    "flower_types = os.listdir(flowers_path)\n",
    "print(\"Types of flowers found: \", len(flower_types))\n",
    "print(\"Categories of flowers: \", flower_types)"
   ]
  },
  {
   "cell_type": "markdown",
   "metadata": {},
   "source": [
    "####  Creating a dataframe for all images"
   ]
  },
  {
   "cell_type": "code",
   "execution_count": 5,
   "metadata": {},
   "outputs": [
    {
     "data": {
      "text/html": [
       "<div>\n",
       "<style scoped>\n",
       "    .dataframe tbody tr th:only-of-type {\n",
       "        vertical-align: middle;\n",
       "    }\n",
       "\n",
       "    .dataframe tbody tr th {\n",
       "        vertical-align: top;\n",
       "    }\n",
       "\n",
       "    .dataframe thead th {\n",
       "        text-align: right;\n",
       "    }\n",
       "</style>\n",
       "<table border=\"1\" class=\"dataframe\">\n",
       "  <thead>\n",
       "    <tr style=\"text-align: right;\">\n",
       "      <th></th>\n",
       "      <th>category</th>\n",
       "      <th>image</th>\n",
       "    </tr>\n",
       "  </thead>\n",
       "  <tbody>\n",
       "    <tr>\n",
       "      <th>0</th>\n",
       "      <td>daisy</td>\n",
       "      <td>C:\\Users\\hp\\Desktop\\ML\\My_Model\\flowers_recogn...</td>\n",
       "    </tr>\n",
       "    <tr>\n",
       "      <th>1</th>\n",
       "      <td>daisy</td>\n",
       "      <td>C:\\Users\\hp\\Desktop\\ML\\My_Model\\flowers_recogn...</td>\n",
       "    </tr>\n",
       "    <tr>\n",
       "      <th>2</th>\n",
       "      <td>daisy</td>\n",
       "      <td>C:\\Users\\hp\\Desktop\\ML\\My_Model\\flowers_recogn...</td>\n",
       "    </tr>\n",
       "    <tr>\n",
       "      <th>3</th>\n",
       "      <td>daisy</td>\n",
       "      <td>C:\\Users\\hp\\Desktop\\ML\\My_Model\\flowers_recogn...</td>\n",
       "    </tr>\n",
       "    <tr>\n",
       "      <th>4</th>\n",
       "      <td>daisy</td>\n",
       "      <td>C:\\Users\\hp\\Desktop\\ML\\My_Model\\flowers_recogn...</td>\n",
       "    </tr>\n",
       "  </tbody>\n",
       "</table>\n",
       "</div>"
      ],
      "text/plain": [
       "  category                                              image\n",
       "0    daisy  C:\\Users\\hp\\Desktop\\ML\\My_Model\\flowers_recogn...\n",
       "1    daisy  C:\\Users\\hp\\Desktop\\ML\\My_Model\\flowers_recogn...\n",
       "2    daisy  C:\\Users\\hp\\Desktop\\ML\\My_Model\\flowers_recogn...\n",
       "3    daisy  C:\\Users\\hp\\Desktop\\ML\\My_Model\\flowers_recogn...\n",
       "4    daisy  C:\\Users\\hp\\Desktop\\ML\\My_Model\\flowers_recogn..."
      ]
     },
     "execution_count": 5,
     "metadata": {},
     "output_type": "execute_result"
    }
   ],
   "source": [
    "# In order to keep track of data details, \n",
    "# Always try to get the information in a dataframe.\n",
    "\n",
    "# A list that is going to contain tuples: (species of the flower, corresponding image path)\n",
    "flowers = []\n",
    "\n",
    "for species in flower_types:\n",
    "    # Get all the file names\n",
    "    all_flowers = os.listdir(flowers_path +'/'+ species)\n",
    "    \n",
    "    # Add them to the list\n",
    "    for flower in all_flowers:\n",
    "        flowers.append((species, str(flowers_path + '/' + species + '/' + flower)))\n",
    "\n",
    "# Build a dataframe        \n",
    "flowers = pd.DataFrame(data=flowers, columns=['category', 'image'], index=None)\n",
    "flowers.head()"
   ]
  },
  {
   "cell_type": "markdown",
   "metadata": {},
   "source": [
    "#### Check samples in Each Category"
   ]
  },
  {
   "cell_type": "code",
   "execution_count": 6,
   "metadata": {},
   "outputs": [
    {
     "name": "stdout",
     "output_type": "stream",
     "text": [
      "Tatal numbers of flowers in dataset:  4326\n",
      "Flowers in each category: \n",
      "dandelion    1055\n",
      "tulip         984\n",
      "rose          784\n",
      "daisy         769\n",
      "sunflower     734\n",
      "Name: category, dtype: int64\n"
     ]
    }
   ],
   "source": [
    "# Let's check how many samples for each category are present\n",
    "print(\"Tatal numbers of flowers in dataset: \",len(flowers))\n",
    "flowers_count = flowers['category'].value_counts()\n",
    "print(\"Flowers in each category: \")\n",
    "print(flowers_count)"
   ]
  },
  {
   "cell_type": "markdown",
   "metadata": {},
   "source": [
    "### Plot Graph between Category and Numbers of Flowers in each Category "
   ]
  },
  {
   "cell_type": "code",
   "execution_count": 7,
   "metadata": {},
   "outputs": [
    {
     "data": {
      "image/png": "[encoded data removed]",
      "text/plain": [
       "<Figure size 864x576 with 1 Axes>"
      ]
     },
     "metadata": {},
     "output_type": "display_data"
    }
   ],
   "source": [
    "plt.figure(figsize = (12,8))\n",
    "sns.barplot(flowers_count.index ,flowers_count.values )\n",
    "plt.title(\"Flowers count for each category\", fontsize=16)\n",
    "plt.xlabel(\"Category\", fontsize=14)\n",
    "plt.ylabel(\"Count\", fontsize=14)\n",
    "plt.show()"
   ]
  },
  {
   "cell_type": "markdown",
   "metadata": {},
   "source": [
    "###  Creating neccessary Directories"
   ]
  },
  {
   "cell_type": "code",
   "execution_count": 8,
   "metadata": {},
   "outputs": [
    {
     "name": "stdout",
     "output_type": "stream",
     "text": [
      "C:\\Users\\hp\\Desktop\\ML\\My_Model\\flowers_recognition\\data\n"
     ]
    }
   ],
   "source": [
    "# Make a parent directory `data` and two sub directories `train` and `valid`\n",
    "%mkdir data\\train\n",
    "%mkdir data\\valid\n",
    "\n",
    "# Inside the train and validation sub=directories, make sub-directories for each catgeory\n",
    "%cd data\n",
    "os.path.abspath(\"\")\n",
    "\n",
    "%mkdir train\\daisy\n",
    "%mkdir train\\tulip\n",
    "%mkdir train\\sunflower\n",
    "%mkdir train\\rose\n",
    "%mkdir train\\dandelion\n",
    "\n",
    "%mkdir valid\\daisy\n",
    "%mkdir valid\\tulip\n",
    "%mkdir valid\\sunflower\n",
    "%mkdir valid\\rose\n",
    "%mkdir valid\\dandelion\n"
   ]
  },
  {
   "cell_type": "markdown",
   "metadata": {},
   "source": [
    "### Split the photos of each category in there corresponding Valid and train directories"
   ]
  },
  {
   "cell_type": "code",
   "execution_count": 9,
   "metadata": {},
   "outputs": [],
   "source": [
    "#For each category, copy samples to the train and validation directory which we defined in the above step.\n",
    "#The number of samples you want in your training and validation set is upto you.\n",
    "for category in flowers_count.index:\n",
    "    samples = flowers['image'][flowers['category'] == category].values\n",
    "    perm = np.random.permutation(samples)\n",
    "    # Copy first 30 samples to the validation directory and rest to the train directory\n",
    "    for i in range(30):\n",
    "        name = perm[i].split('/')[-1]\n",
    "        shutil.copyfile(perm[i],'C:/Users/hp/Desktop/ML/My_Model/flowers_recognition/data/valid/' + str(category) + '/' + name)\n",
    "    for i in range(31,len(perm)):\n",
    "        name = perm[i].split('/')[-1]\n",
    "        shutil.copyfile(perm[i],'C:/Users/hp/Desktop/ML/My_Model/flowers_recognition/data/train/' + str(category) + '/' + name)"
   ]
  },
  {
   "cell_type": "markdown",
   "metadata": {},
   "source": [
    "## Create CNN"
   ]
  },
  {
   "cell_type": "code",
   "execution_count": 8,
   "metadata": {},
   "outputs": [],
   "source": [
    "\n",
    "# Initialising the CNN\n",
    "classifier = Sequential()\n",
    "\n",
    "# Step 1 - Convolution\n",
    "classifier.add(Conv2D(32, (3, 3), input_shape = (150, 150, 3), activation = 'relu'))\n",
    "\n",
    "# Step 2 - Pooling\n",
    "classifier.add(MaxPooling2D(pool_size = (2, 2)))\n",
    "\n",
    "# Adding a second convolutional layer\n",
    "classifier.add(Conv2D(32, (3, 3), activation = 'relu'))\n",
    "classifier.add(MaxPooling2D(pool_size = (2, 2)))\n",
    "\n",
    "# Step 3 - Flattening\n",
    "classifier.add(Flatten())\n",
    "\n",
    "# Step 4 - Full connection\n",
    "classifier.add(Dense(units = 500, activation = 'relu'))\n",
    "classifier.add(Dense(units = 5, activation = 'sigmoid'))\n",
    "\n",
    "# Compiling the CNN\n",
    "classifier.compile(optimizer = 'adam', loss = 'binary_crossentropy', metrics = ['accuracy'])\n",
    "\n",
    " "
   ]
  },
  {
   "cell_type": "markdown",
   "metadata": {},
   "source": [
    "### Generate Train and Validation Generator for Images of Each Category"
   ]
  },
  {
   "cell_type": "code",
   "execution_count": 9,
   "metadata": {},
   "outputs": [
    {
     "name": "stdout",
     "output_type": "stream",
     "text": [
      "Found 4168 images belonging to 5 classes.\n",
      "Found 150 images belonging to 5 classes.\n"
     ]
    }
   ],
   "source": [
    "# Define the generators\n",
    "\n",
    "batch_size = 8\n",
    "# this is the augmentation configuration we will use for training\n",
    "train_datagen = ImageDataGenerator(rescale=1./255,\n",
    "                                   shear_range=0.2,\n",
    "                                   zoom_range=0.2,\n",
    "                                   horizontal_flip=True)\n",
    "\n",
    "# this is the augmentation configuration we will use for testing:\n",
    "# only rescaling\n",
    "valid_datagen = ImageDataGenerator(rescale=1./255)\n",
    "\n",
    "train_generator = train_datagen.flow_from_directory('C:/Users/hp/Desktop/ML/My_Model/flowers_recognition/data/train/',  \n",
    "                                                    # this is the target directory\n",
    "                                                    target_size=(150, 150),  # all images will be resized to 150x150\n",
    "                                                    batch_size=batch_size,\n",
    "                                                    class_mode='categorical')  # more than two classes\n",
    "\n",
    "validation_generator = valid_datagen.flow_from_directory('C:/Users/hp/Desktop/ML/My_Model/flowers_recognition/data/valid/',\n",
    "                                                        target_size=(150,150),\n",
    "                                                        batch_size=batch_size,\n",
    "                                                        class_mode='categorical')"
   ]
  },
  {
   "cell_type": "markdown",
   "metadata": {},
   "source": [
    "### Fit the Classifier"
   ]
  },
  {
   "cell_type": "code",
   "execution_count": 12,
   "metadata": {},
   "outputs": [
    {
     "name": "stdout",
     "output_type": "stream",
     "text": [
      "Epoch 1/10\n",
      "4168/4168 [==============================] - 1190s 286ms/step - loss: 0.2711 - acc: 0.8862 - val_loss: 0.3472 - val_acc: 0.8545\n",
      "Epoch 2/10\n",
      "4168/4168 [==============================] - 1480s 355ms/step - loss: 0.1311 - acc: 0.9501 - val_loss: 0.5000 - val_acc: 0.8828\n",
      "Epoch 3/10\n",
      "4168/4168 [==============================] - 1486s 357ms/step - loss: 0.0719 - acc: 0.9744 - val_loss: 0.5928 - val_acc: 0.8793\n",
      "Epoch 4/10\n",
      "4168/4168 [==============================] - 1152s 276ms/step - loss: 0.0442 - acc: 0.9853 - val_loss: 0.6545 - val_acc: 0.8715\n",
      "Epoch 5/10\n",
      "4168/4168 [==============================] - 1115s 267ms/step - loss: 0.0336 - acc: 0.9891 - val_loss: 0.6091 - val_acc: 0.8863\n",
      "Epoch 6/10\n",
      "4168/4168 [==============================] - 1123s 269ms/step - loss: 0.0297 - acc: 0.9909 - val_loss: 0.7048 - val_acc: 0.8909\n",
      "Epoch 7/10\n",
      "4168/4168 [==============================] - 1118s 268ms/step - loss: 0.0244 - acc: 0.9927 - val_loss: 0.7659 - val_acc: 0.8843\n",
      "Epoch 8/10\n",
      "4168/4168 [==============================] - 1114s 267ms/step - loss: 0.0219 - acc: 0.9936 - val_loss: 0.9433 - val_acc: 0.8676\n",
      "Epoch 9/10\n",
      "4168/4168 [==============================] - 1132s 272ms/step - loss: 0.0190 - acc: 0.9945 - val_loss: 0.8103 - val_acc: 0.8752\n",
      "Epoch 10/10\n",
      "4168/4168 [==============================] - 1119s 269ms/step - loss: 0.0187 - acc: 0.9947 - val_loss: 1.0587 - val_acc: 0.8764\n"
     ]
    },
    {
     "data": {
      "text/plain": [
       "<keras.callbacks.History at 0x2c38b262080>"
      ]
     },
     "execution_count": 12,
     "metadata": {},
     "output_type": "execute_result"
    }
   ],
   "source": [
    "# Fit the Classifier\n",
    "classifier.fit_generator(train_generator,\n",
    "                         steps_per_epoch = 4168,\n",
    "                         epochs = 10,\n",
    "                         validation_data = validation_generator,\n",
    "                         validation_steps = 150)\n",
    "\n"
   ]
  },
  {
   "cell_type": "markdown",
   "metadata": {},
   "source": [
    "#### Import Library for Saving model in JSON"
   ]
  },
  {
   "cell_type": "code",
   "execution_count": 10,
   "metadata": {},
   "outputs": [],
   "source": [
    "from keras.models import model_from_json"
   ]
  },
  {
   "cell_type": "markdown",
   "metadata": {},
   "source": [
    "#### Converting Model into JSON and saving Weights of Model in .h5 format and saving into Disk"
   ]
  },
  {
   "cell_type": "code",
   "execution_count": 40,
   "metadata": {},
   "outputs": [
    {
     "name": "stdout",
     "output_type": "stream",
     "text": [
      "Saved model to disk\n"
     ]
    }
   ],
   "source": [
    "# serialize model to JSON\n",
    "model_json = classifier.to_json()\n",
    "with open(\"flower_recognition.json\", \"w\") as json_file:\n",
    "    json_file.write(model_json)\n",
    "    \n",
    "# serialize weights to HDF5\n",
    "classifier.save_weights(\"flower_recognition_classifier_weight.h5\")\n",
    "print(\"Saved model to disk\")"
   ]
  },
  {
   "cell_type": "markdown",
   "metadata": {},
   "source": [
    "## Predicting the given Image Category on Model"
   ]
  },
  {
   "cell_type": "code",
   "execution_count": 12,
   "metadata": {},
   "outputs": [],
   "source": [
    "classifier.load_weights(\"flower_recognition_classifier_weight.h5\")"
   ]
  },
  {
   "cell_type": "code",
   "execution_count": 13,
   "metadata": {},
   "outputs": [
    {
     "name": "stdout",
     "output_type": "stream",
     "text": [
      "{'dandelion': 1, 'daisy': 0, 'tulip': 4, 'rose': 2, 'sunflower': 3}\n",
      "Sunflower\n",
      "[[0. 0. 0. 1. 0.]]\n"
     ]
    }
   ],
   "source": [
    "from keras.preprocessing import image\n",
    "test_image = image.load_img(r\"C:\\\\Users\\\\hp\\\\Desktop\\\\ML\\\\My_Model\\\\flowers_recognition\\\\data\\\\sunflower.jpg\", \n",
    "                            target_size = (150,150))\n",
    "test_image = image.img_to_array(test_image)\n",
    "test_image = np.expand_dims(test_image, axis = 0)\n",
    "\n",
    "result = classifier.predict(test_image)\n",
    "print(train_generator.class_indices)\n",
    "if result[0][0] == 1:\n",
    "    prediction = 'Daisy'\n",
    "else:\n",
    "    if result[0][1] ==1:\n",
    "        prediction = 'Dendelion'\n",
    "    else:\n",
    "        if result[0][2] ==1:\n",
    "            prediction = 'Rose'\n",
    "        else:\n",
    "            if result[0][3] ==1:\n",
    "                prediction = 'Sunflower'\n",
    "            else:\n",
    "                if result[0][4] ==1:\n",
    "                    prediction = 'Tulip'\n",
    "\n",
    "print(prediction)\n",
    "print(result)"
   ]
  },
  {
   "cell_type": "code",
   "execution_count": 14,
   "metadata": {},
   "outputs": [
    {
     "name": "stdout",
     "output_type": "stream",
     "text": [
      "Loaded model from disk\n"
     ]
    }
   ],
   "source": [
    "\n",
    "# load json and create model\n",
    "json_file = open('flower_recognition.json', 'r')\n",
    "loaded_model_json = json_file.read()\n",
    "json_file.close()\n",
    "loaded_model = model_from_json(loaded_model_json)\n",
    "loaded_model.compile(optimizer = 'adam', loss = 'binary_crossentropy', metrics = ['accuracy'])\n",
    "\n",
    "# load weights into new model\n",
    "loaded_model.load_weights(\"flower_recognition_classifier_weight.h5\")\n",
    "print(\"Loaded model from disk\")\n",
    " \n"
   ]
  },
  {
   "cell_type": "code",
   "execution_count": 15,
   "metadata": {},
   "outputs": [
    {
     "name": "stdout",
     "output_type": "stream",
     "text": [
      "{'dandelion': 1, 'daisy': 0, 'tulip': 4, 'rose': 2, 'sunflower': 3}\n",
      "sunflower\n",
      "[[0. 0. 0. 1. 0.]]\n"
     ]
    }
   ],
   "source": [
    "from keras.preprocessing import image\n",
    "\n",
    "test_image = image.load_img(r\"C:\\\\Users\\\\hp\\\\Desktop\\\\ML\\\\My_Model\\\\flowers_recognition\\\\data\\\\sunflower.jpg\", \n",
    "                            target_size = (150,150))\n",
    "test_image = image.img_to_array(test_image)\n",
    "test_image = np.expand_dims(test_image, axis = 0)\n",
    "result = loaded_model.predict(test_image)\n",
    "print(train_generator.class_indices)\n",
    "if result[0][0] == 1:\n",
    "    prediction = 'daisy'\n",
    "else:\n",
    "    if result[0][1] ==1:\n",
    "        prediction = 'dendelion'\n",
    "    else:\n",
    "        if result[0][2] ==1:\n",
    "            prediction = 'rose'\n",
    "        else:\n",
    "            if result[0][3] ==1:\n",
    "                prediction = 'sunflower'\n",
    "            else:\n",
    "                if result[0][4] ==1:\n",
    "                    prediction = 'tulip'\n",
    "    \n",
    "print(prediction)\n",
    "print(result)"
   ]
  },
  {
   "cell_type": "code",
   "execution_count": null,
   "metadata": {},
   "outputs": [],
   "source": []
  }
 ],
 "metadata": {
  "kernelspec": {
   "display_name": "Python 3",
   "language": "python",
   "name": "python3"
  },
  "language_info": {
   "codemirror_mode": {
    "name": "ipython",
    "version": 3
   },
   "file_extension": ".py",
   "mimetype": "text/x-python",
   "name": "python",
   "nbconvert_exporter": "python",
   "pygments_lexer": "ipython3",
   "version": "3.5.2"
  }
 },
 "nbformat": 4,
 "nbformat_minor": 2
}
